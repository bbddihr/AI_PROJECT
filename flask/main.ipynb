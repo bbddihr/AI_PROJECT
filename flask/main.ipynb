{
 "cells": [
  {
   "cell_type": "code",
   "execution_count": 1,
   "metadata": {},
   "outputs": [
    {
     "name": "stdout",
     "output_type": "stream",
     "text": [
      "Requirement already satisfied: flask in c:\\users\\koreavc\\anaconda3\\lib\\site-packages (2.2.5)\n",
      "Requirement already satisfied: Werkzeug>=2.2.2 in c:\\users\\koreavc\\anaconda3\\lib\\site-packages (from flask) (2.2.3)\n",
      "Requirement already satisfied: Jinja2>=3.0 in c:\\users\\koreavc\\anaconda3\\lib\\site-packages (from flask) (3.1.3)\n",
      "Requirement already satisfied: itsdangerous>=2.0 in c:\\users\\koreavc\\anaconda3\\lib\\site-packages (from flask) (2.0.1)\n",
      "Requirement already satisfied: click>=8.0 in c:\\users\\koreavc\\anaconda3\\lib\\site-packages (from flask) (8.1.7)\n",
      "Requirement already satisfied: colorama in c:\\users\\koreavc\\anaconda3\\lib\\site-packages (from click>=8.0->flask) (0.4.6)\n",
      "Requirement already satisfied: MarkupSafe>=2.0 in c:\\users\\koreavc\\anaconda3\\lib\\site-packages (from Jinja2>=3.0->flask) (2.1.3)\n"
     ]
    }
   ],
   "source": [
    "!pip install flask"
   ]
  },
  {
   "cell_type": "code",
   "execution_count": 2,
   "metadata": {},
   "outputs": [
    {
     "name": "stdout",
     "output_type": "stream",
     "text": [
      "Collecting flask_socketio\n",
      "  Downloading Flask_SocketIO-5.3.6-py3-none-any.whl.metadata (2.6 kB)\n",
      "Requirement already satisfied: Flask>=0.9 in c:\\users\\koreavc\\anaconda3\\lib\\site-packages (from flask_socketio) (2.2.5)\n",
      "Collecting python-socketio>=5.0.2 (from flask_socketio)\n",
      "  Downloading python_socketio-5.11.3-py3-none-any.whl.metadata (3.2 kB)\n",
      "Requirement already satisfied: Werkzeug>=2.2.2 in c:\\users\\koreavc\\anaconda3\\lib\\site-packages (from Flask>=0.9->flask_socketio) (2.2.3)\n",
      "Requirement already satisfied: Jinja2>=3.0 in c:\\users\\koreavc\\anaconda3\\lib\\site-packages (from Flask>=0.9->flask_socketio) (3.1.3)\n",
      "Requirement already satisfied: itsdangerous>=2.0 in c:\\users\\koreavc\\anaconda3\\lib\\site-packages (from Flask>=0.9->flask_socketio) (2.0.1)\n",
      "Requirement already satisfied: click>=8.0 in c:\\users\\koreavc\\anaconda3\\lib\\site-packages (from Flask>=0.9->flask_socketio) (8.1.7)\n",
      "Collecting bidict>=0.21.0 (from python-socketio>=5.0.2->flask_socketio)\n",
      "  Downloading bidict-0.23.1-py3-none-any.whl.metadata (8.7 kB)\n",
      "Collecting python-engineio>=4.8.0 (from python-socketio>=5.0.2->flask_socketio)\n",
      "  Downloading python_engineio-4.9.1-py3-none-any.whl.metadata (2.2 kB)\n",
      "Requirement already satisfied: colorama in c:\\users\\koreavc\\anaconda3\\lib\\site-packages (from click>=8.0->Flask>=0.9->flask_socketio) (0.4.6)\n",
      "Requirement already satisfied: MarkupSafe>=2.0 in c:\\users\\koreavc\\anaconda3\\lib\\site-packages (from Jinja2>=3.0->Flask>=0.9->flask_socketio) (2.1.3)\n",
      "Collecting simple-websocket>=0.10.0 (from python-engineio>=4.8.0->python-socketio>=5.0.2->flask_socketio)\n",
      "  Downloading simple_websocket-1.0.0-py3-none-any.whl.metadata (1.3 kB)\n",
      "Collecting wsproto (from simple-websocket>=0.10.0->python-engineio>=4.8.0->python-socketio>=5.0.2->flask_socketio)\n",
      "  Downloading wsproto-1.2.0-py3-none-any.whl.metadata (5.6 kB)\n",
      "Requirement already satisfied: h11<1,>=0.9.0 in c:\\users\\koreavc\\anaconda3\\lib\\site-packages (from wsproto->simple-websocket>=0.10.0->python-engineio>=4.8.0->python-socketio>=5.0.2->flask_socketio) (0.14.0)\n",
      "Downloading Flask_SocketIO-5.3.6-py3-none-any.whl (18 kB)\n",
      "Downloading python_socketio-5.11.3-py3-none-any.whl (76 kB)\n",
      "Downloading bidict-0.23.1-py3-none-any.whl (32 kB)\n",
      "Downloading python_engineio-4.9.1-py3-none-any.whl (57 kB)\n",
      "Downloading simple_websocket-1.0.0-py3-none-any.whl (13 kB)\n",
      "Downloading wsproto-1.2.0-py3-none-any.whl (24 kB)\n",
      "Installing collected packages: wsproto, bidict, simple-websocket, python-engineio, python-socketio, flask_socketio\n",
      "Successfully installed bidict-0.23.1 flask_socketio-5.3.6 python-engineio-4.9.1 python-socketio-5.11.3 simple-websocket-1.0.0 wsproto-1.2.0\n"
     ]
    }
   ],
   "source": [
    "!pip install flask_socketio"
   ]
  },
  {
   "cell_type": "code",
   "execution_count": 1,
   "metadata": {},
   "outputs": [],
   "source": [
    "from flask import Flask, render_template\n",
    "from flask_socketio import SocketIO"
   ]
  },
  {
   "cell_type": "code",
   "execution_count": 2,
   "metadata": {},
   "outputs": [],
   "source": [
    "app = Flask(__name__)\n",
    "socketio = SocketIO(app)"
   ]
  },
  {
   "cell_type": "code",
   "execution_count": 3,
   "metadata": {},
   "outputs": [],
   "source": [
    "@app.route('/')\n",
    "def index():    \n",
    "    return render_template('index.html')"
   ]
  },
  {
   "cell_type": "code",
   "execution_count": 4,
   "metadata": {},
   "outputs": [],
   "source": [
    "@socketio.on('event') #이벤트를 처리할 함수 선언\n",
    "def functions(args): #이벤트가 발생하면 호출되는 함수\n",
    "    socketio.emit('event', args) #서버가 이벤트를 가진 클라이언트에게 데이터를 전송\n"
   ]
  },
  {
   "cell_type": "code",
   "execution_count": 5,
   "metadata": {},
   "outputs": [
    {
     "ename": "RuntimeError",
     "evalue": "The Werkzeug web server is not designed to run in production. Pass allow_unsafe_werkzeug=True to the run() method to disable this error.",
     "output_type": "error",
     "traceback": [
      "\u001b[1;31m---------------------------------------------------------------------------\u001b[0m",
      "\u001b[1;31mRuntimeError\u001b[0m                              Traceback (most recent call last)",
      "Cell \u001b[1;32mIn[5], line 14\u001b[0m\n\u001b[0;32m     12\u001b[0m     socketio\u001b[38;5;241m.\u001b[39memit(\u001b[38;5;124m'\u001b[39m\u001b[38;5;124mmessage\u001b[39m\u001b[38;5;124m'\u001b[39m, data) \n\u001b[0;32m     13\u001b[0m \u001b[38;5;28;01mif\u001b[39;00m \u001b[38;5;18m__name__\u001b[39m \u001b[38;5;241m==\u001b[39m \u001b[38;5;124m'\u001b[39m\u001b[38;5;124m__main__\u001b[39m\u001b[38;5;124m'\u001b[39m:    \n\u001b[1;32m---> 14\u001b[0m     socketio\u001b[38;5;241m.\u001b[39mrun(app, host\u001b[38;5;241m=\u001b[39m\u001b[38;5;124m'\u001b[39m\u001b[38;5;124m192.168.0.41\u001b[39m\u001b[38;5;124m'\u001b[39m, port\u001b[38;5;241m=\u001b[39m\u001b[38;5;241m5500\u001b[39m, debug\u001b[38;5;241m=\u001b[39m\u001b[38;5;28;01mTrue\u001b[39;00m)\n",
      "File \u001b[1;32mc:\\Users\\KOREAVC\\anaconda3\\Lib\\site-packages\\flask_socketio\\__init__.py:640\u001b[0m, in \u001b[0;36mSocketIO.run\u001b[1;34m(self, app, host, port, **kwargs)\u001b[0m\n\u001b[0;32m    638\u001b[0m \u001b[38;5;28;01mif\u001b[39;00m \u001b[38;5;129;01mnot\u001b[39;00m sys\u001b[38;5;241m.\u001b[39mstdin \u001b[38;5;129;01mor\u001b[39;00m \u001b[38;5;129;01mnot\u001b[39;00m sys\u001b[38;5;241m.\u001b[39mstdin\u001b[38;5;241m.\u001b[39misatty():  \u001b[38;5;66;03m# pragma: no cover\u001b[39;00m\n\u001b[0;32m    639\u001b[0m     \u001b[38;5;28;01mif\u001b[39;00m \u001b[38;5;129;01mnot\u001b[39;00m allow_unsafe_werkzeug:\n\u001b[1;32m--> 640\u001b[0m         \u001b[38;5;28;01mraise\u001b[39;00m \u001b[38;5;167;01mRuntimeError\u001b[39;00m(\u001b[38;5;124m'\u001b[39m\u001b[38;5;124mThe Werkzeug web server is not \u001b[39m\u001b[38;5;124m'\u001b[39m\n\u001b[0;32m    641\u001b[0m                            \u001b[38;5;124m'\u001b[39m\u001b[38;5;124mdesigned to run in production. Pass \u001b[39m\u001b[38;5;124m'\u001b[39m\n\u001b[0;32m    642\u001b[0m                            \u001b[38;5;124m'\u001b[39m\u001b[38;5;124mallow_unsafe_werkzeug=True to the \u001b[39m\u001b[38;5;124m'\u001b[39m\n\u001b[0;32m    643\u001b[0m                            \u001b[38;5;124m'\u001b[39m\u001b[38;5;124mrun() method to disable this error.\u001b[39m\u001b[38;5;124m'\u001b[39m)\n\u001b[0;32m    644\u001b[0m     \u001b[38;5;28;01melse\u001b[39;00m:\n\u001b[0;32m    645\u001b[0m         \u001b[38;5;28;01mfrom\u001b[39;00m \u001b[38;5;21;01mwerkzeug\u001b[39;00m\u001b[38;5;21;01m.\u001b[39;00m\u001b[38;5;21;01m_internal\u001b[39;00m \u001b[38;5;28;01mimport\u001b[39;00m _log\n",
      "\u001b[1;31mRuntimeError\u001b[0m: The Werkzeug web server is not designed to run in production. Pass allow_unsafe_werkzeug=True to the run() method to disable this error."
     ]
    }
   ],
   "source": [
    "from flask import Flask, render_template\n",
    "from flask_socketio import SocketIO \n",
    "app = Flask(__name__)\n",
    "socketio = SocketIO(app) \n",
    "@app.route('/')\n",
    "def index():    \n",
    "    return render_template('index.html') \n",
    "\n",
    "@socketio.on('message')\n",
    "def handle_message(data):    \n",
    "    print('Received message:', data)    \n",
    "    socketio.emit('message', data) \n",
    "if __name__ == '__main__':    \n",
    "    socketio.run(app, host='192.168.0.41', port=5500, debug=True)\n"
   ]
  },
  {
   "cell_type": "markdown",
   "metadata": {},
   "source": [
    "간단히 설명하면 클라이언트에서 'message'의 이벤트를 발생시켰다면,handle_message 라는 함수가 호출되어 클라이언트에서 전송한 메시지 내용이 data 라는 파라미터로 전달된다.\n",
    "그 후 소켓 서버는 받은 메시지 내용(data)을 모든 클라이언트들에게 실시간으로 전송한다."
   ]
  },
  {
   "cell_type": "code",
   "execution_count": null,
   "metadata": {},
   "outputs": [],
   "source": []
  },
  {
   "cell_type": "code",
   "execution_count": null,
   "metadata": {},
   "outputs": [],
   "source": []
  },
  {
   "cell_type": "code",
   "execution_count": null,
   "metadata": {},
   "outputs": [],
   "source": []
  }
 ],
 "metadata": {
  "kernelspec": {
   "display_name": "base",
   "language": "python",
   "name": "python3"
  },
  "language_info": {
   "codemirror_mode": {
    "name": "ipython",
    "version": 3
   },
   "file_extension": ".py",
   "mimetype": "text/x-python",
   "name": "python",
   "nbconvert_exporter": "python",
   "pygments_lexer": "ipython3",
   "version": "3.11.7"
  }
 },
 "nbformat": 4,
 "nbformat_minor": 2
}
